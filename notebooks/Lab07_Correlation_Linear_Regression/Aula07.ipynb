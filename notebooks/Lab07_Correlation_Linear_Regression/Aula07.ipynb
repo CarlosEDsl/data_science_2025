{
 "cells": [
  {
   "cell_type": "markdown",
   "id": "22f3af16",
   "metadata": {},
   "source": [
    "# Correlação e Regressão Linear\n",
    "- Pima Indians Diabetes"
   ]
  },
  {
   "cell_type": "code",
   "execution_count": null,
   "id": "2ed6f575",
   "metadata": {},
   "outputs": [],
   "source": [
    "import pandas as pd\n",
    "import numpy as np\n",
    "from sklearn.model_selection import train_test_split\n",
    "from sklearn.linear_model import LinearRegression\n",
    "from sklearn.metrics import mean_squared_error\n",
    "from math import sqrt\n",
    "import seaborn as sns\n",
    "import matplotlib.pyplot as plt\n",
    "from sklearn.metrics import r2_score"
   ]
  },
  {
   "cell_type": "code",
   "execution_count": null,
   "id": "613dfcf3",
   "metadata": {},
   "outputs": [],
   "source": [
    "# Carregamento dos dados\n",
    "column_names = [\n",
    "    'Pregnancies', 'Glucose', 'BloodPressure', 'SkinThickness',\n",
    "    'Insulin', 'BMI', 'DiabetesPedigreeFunction', 'Age', 'Outcome'\n",
    "]\n",
    "df = pd.read_csv('diabetes.csv', names=column_names, header=0)\n",
    "\n",
    "cols_with_zeros = ['Glucose', 'BloodPressure', 'SkinThickness', 'Insulin', 'BMI']\n",
    "df[cols_with_zeros] = df[cols_with_zeros].replace(0, np.nan)\n",
    "df.isnull().sum()"
   ]
  },
  {
   "cell_type": "markdown",
   "id": "f72ff96a",
   "metadata": {},
   "source": [
    "## 01 Analisando a correlação dos dados e Data Cleaning"
   ]
  },
  {
   "cell_type": "code",
   "execution_count": null,
   "id": "7cacff89",
   "metadata": {},
   "outputs": [],
   "source": [
    "# Dataframe com dos dados nulos removidos\n",
    "df_clean = df.dropna(inplace=False)\n",
    "\n",
    "# Select only numerical features for correlation analysis\n",
    "numerical_df = df_clean.select_dtypes(include=['number'])\n",
    "\n",
    "# Calculate the correlation matrix\n",
    "corr = numerical_df.corr()\n",
    "\n",
    "# Display the correlation matrix\n",
    "corr"
   ]
  },
  {
   "cell_type": "code",
   "execution_count": null,
   "id": "32ac7d7b",
   "metadata": {},
   "outputs": [],
   "source": [
    "# plotar um heatmap a partir das correlações\n",
    "plt.figure(figsize=(10,8))\n",
    "sns.heatmap(corr, annot=True, cmap='rocket')\n",
    "plt.title('Correlação das variáveis', loc='left', fontsize=16)\n",
    "plt.show()"
   ]
  },
  {
   "cell_type": "markdown",
   "id": "4b8065e0",
   "metadata": {},
   "source": [
    "## 2. Separar os dados de treino e teste"
   ]
  },
  {
   "cell_type": "code",
   "execution_count": null,
   "id": "6f6246df",
   "metadata": {},
   "outputs": [],
   "source": [
    "# Para realizar a regressão simples\n",
    "X_simple = df_clean[['Glucose']]\n",
    "y = df_clean['Insulin']\n",
    "X_train_s, X_test_s, y_train_s, y_test_s = train_test_split(X_simple, y, test_size=0.2, random_state=42)"
   ]
  },
  {
   "cell_type": "code",
   "execution_count": null,
   "id": "a0938339",
   "metadata": {},
   "outputs": [],
   "source": [
    "# Para realizar a regressão múltipla\n",
    "X_multi = df_clean.drop(columns=['Insulin', 'Outcome'])  # remove Insulin (alvo) e Outcome (classificação)\n",
    "\n",
    "X_train_m, X_test_m, y_train_m, y_test_m = train_test_split(X_multi, y, test_size=0.2, random_state=42)"
   ]
  },
  {
   "cell_type": "code",
   "execution_count": null,
   "id": "76dee3b6",
   "metadata": {},
   "outputs": [],
   "source": [
    "# 3. Regressão simples\n",
    "model_simple = LinearRegression()\n",
    "model_simple.fit(X_train_s, y_train_s)\n",
    "y_pred_s = model_simple.predict(X_test_s)\n",
    "rmse_simple = sqrt(mean_squared_error(y_test_s, y_pred_s))"
   ]
  },
  {
   "cell_type": "code",
   "execution_count": null,
   "id": "6cff93d6",
   "metadata": {},
   "outputs": [],
   "source": [
    "# 4. Regressão múltipla\n",
    "model_multi = LinearRegression()\n",
    "model_multi.fit(X_train_m, y_train_m)\n",
    "y_pred_m = model_multi.predict(X_test_m)\n",
    "rmse_multi = sqrt(mean_squared_error(y_test_m, y_pred_m))"
   ]
  },
  {
   "cell_type": "code",
   "execution_count": null,
   "id": "e61c26cb",
   "metadata": {},
   "outputs": [],
   "source": [
    "# 5. Resultados\n",
    "print(f\"RMSE Regressão Simples (Glicose → Insulina): {rmse_simple:.2f}\")\n",
    "print(f\"RMSE Regressão Múltipla (Todas as variáveis → Insulina): {rmse_multi:.2f}\")"
   ]
  },
  {
   "cell_type": "code",
   "execution_count": null,
   "id": "b8619f1a",
   "metadata": {},
   "outputs": [],
   "source": [
    "# Calcular R² para ambos os modelos\n",
    "r2_simple = r2_score(y_test_s, y_pred_s)\n",
    "r2_multi = r2_score(y_test_m, y_pred_m)\n",
    "\n",
    "# Gráfico: Regressão Simples\n",
    "plt.figure(figsize=(12, 5))\n",
    "\n",
    "plt.subplot(1, 2, 1)\n",
    "plt.scatter(y_test_s, y_pred_s, alpha=0.7, color='blue')\n",
    "plt.plot([y_test_s.min(), y_test_s.max()], [y_test_s.min(), y_test_s.max()], 'k--', lw=2)\n",
    "plt.xlabel('Insulina Real')\n",
    "plt.ylabel('Insulina Prevista')\n",
    "plt.title(f'Regressão Simples\\n$R^2$ = {r2_simple:.2f}')\n",
    "plt.grid(True)\n",
    "\n",
    "# Gráfico: Regressão Múltipla\n",
    "plt.subplot(1, 2, 2)\n",
    "plt.scatter(y_test_m, y_pred_m, alpha=0.7, color='green')\n",
    "plt.plot([y_test_m.min(), y_test_m.max()], [y_test_m.min(), y_test_m.max()], 'k--', lw=2)\n",
    "plt.xlabel('Insulina Real')\n",
    "plt.ylabel('Insulina Prevista')\n",
    "plt.title(f'Regressão Múltipla\\n$R^2$ = {r2_multi:.2f}')\n",
    "plt.grid(True)\n",
    "\n",
    "plt.tight_layout()\n",
    "plt.show()"
   ]
  },
  {
   "cell_type": "markdown",
   "id": "c3f66fda",
   "metadata": {},
   "source": [
    "## 6 Interpretação dos resultados\n",
    "\n",
    "- O RMSE (Root Mean Squared Error) representa o erro médio das previsões do modelo em relação aos valores reais, e é medido na mesma unidade da variável prevista — neste caso, insulina (μU/mL).\n",
    "\n",
    "- Um RMSE de 92.82 na regressão simples significa que, em média, as previsões do modelo erram por cerca de 92 unidades de insulina.\n",
    "\n",
    "- Isso não indica o erro máximo, mas sim a magnitude média dos erros, com penalização maior para erros grandes.\n",
    "\n",
    "- Se os níveis médios de insulina no conjunto de dados variam entre 100 e 200 μU/mL, um RMSE de 92 representa um erro relativamente alto, indicando que o modelo tem baixa precisão na predição da insulina.\n",
    "\n",
    "- A regressão múltipla, com RMSE de 94.10, teve desempenho ainda ligeiramente pior, sugerindo que as variáveis adicionais não contribuíram significativamente para melhorar a predição.\n",
    "\n",
    "Esses resultados sugerem que a insulina pode ser difícil de prever com base nas variáveis disponíveis, ou que há alta variabilidade nos dados que os modelos lineares não conseguem capturar bem."
   ]
  }
 ],
 "metadata": {
  "kernelspec": {
   "display_name": "aulas_pos",
   "language": "python",
   "name": "python3"
  },
  "language_info": {
   "codemirror_mode": {
    "name": "ipython",
    "version": 3
   },
   "file_extension": ".py",
   "mimetype": "text/x-python",
   "name": "python",
   "nbconvert_exporter": "python",
   "pygments_lexer": "ipython3",
   "version": "3.11.8"
  }
 },
 "nbformat": 4,
 "nbformat_minor": 5
}
