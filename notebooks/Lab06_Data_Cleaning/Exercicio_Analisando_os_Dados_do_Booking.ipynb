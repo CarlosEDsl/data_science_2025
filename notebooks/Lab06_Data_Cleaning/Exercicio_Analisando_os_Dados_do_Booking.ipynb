{
  "cells": [
    {
      "cell_type": "markdown",
      "metadata": {
        "id": "kLI0gJtzDGuQ"
      },
      "source": [
        "# Análise dos Dados do Booking - *Portugal*\n",
        "\n",
        "- Baixe o arquivo no link: [Clique aqui para baixar o arquivo](https://drive.google.com/file/d/1ApHNm3gI7O7j7Kby7EU9xZo7W1E8xB6t/view?usp=drive_link)\n",
        "\n",
        "\n",
        "\n",
        "# A [Booking.com](https://www.booking.com/) é uma das **maiores plataformas de reservas de hospedagem do mundo**. E o mais impressionante? Ela **não é dona de nenhum hotel**!\n",
        "\n",
        "Conectando viajantes a uma vasta rede de hotéis, pousadas, apartamentos e outras opções de hospedagem, a Booking.com revolucionou a forma como as pessoas planejam suas viagens, oferecendo **milhões de propriedades em todo o mundo**.\n",
        "\n",
        "Fundada em 1996, a empresa já ajudou **milhões de viajantes** a encontrar a hospedagem perfeita, desbancando métodos tradicionais de reserva e se tornando referência no setor de turismo.\n",
        "\n",
        "A Booking.com também disponibiliza dados e ferramentas para desenvolvedores através da [Booking.com API](https://developers.booking.com/), permitindo a integração de suas soluções de hospedagem em outros aplicativos e plataformas.\n",
        "\n",
        "<center><img alt=\"Explorando Booking.com\" width=\"15%\" src=\"https://logos-world.net/wp-content/uploads/2020/08/Booking.com-Logo.png\"></center>\n",
        "\n",
        "**Neste *notebook*, vamos explorar dados de hospedagens em Lisboa e descobrir insights valiosos sobre tendências de viagem, preços e disponibilidade.**"
      ]
    },
    {
      "cell_type": "markdown",
      "metadata": {},
      "source": [
        "**Dicionário das variáveis**\n",
        "\n",
        "* **id** : identificação única para o anúncio\n",
        "* **name** : nome do anúncio\n",
        "* **host_id** : identificador único para o proprietário do imóvel\n",
        "* **host_name** : nome do proprietário\n",
        "* **neighbourhood_group** :município ao qual o imóvel pertence, geolocalizado pelas coordenadas de latitude e longitude\n",
        "* **neighbourhood** : bairro da propriedade\n",
        "* **latitude** : coordenada geográfica de latitude da propriedade\n",
        "* **longitude** : coordenada geográfica de longitude da propriedade\n",
        "* **room_type** : tipo de quarto oferecido para locação\n",
        "* **price** : preço da diária do aluguel\n",
        "* **minimum_nights** : quantidade mínima de noites para alugar o imóvel\n",
        "* **number_of_reviews** : quantidade de avaliações que o imóvel tem\n",
        "* **last_review** : data da última avaliação\n",
        "* **reviews_per_month** : quantidade de avaliações por mês\n",
        "* **calculated_host_listings_count** : quantidade de imóveis do mesmo proprietário na mesma cidade/região\n",
        "* **availability_365** : número de dias disponíveis para locação nos próximos 365 dias\n",
        "* **number_of_reviews_ltm** : quantidade de avaliações nos últimos 12 meses\n",
        "* **license** : número de registro do imóvel"
      ]
    },
    {
      "cell_type": "markdown",
      "metadata": {
        "id": "0zxQHhIUDF_2"
      },
      "source": [
        "## Obtenção dos Dados\n"
      ]
    },
    {
      "cell_type": "code",
      "execution_count": 1,
      "metadata": {
        "id": "Vhp2wMPgJ6zX"
      },
      "outputs": [],
      "source": [
        "# importar os pacotes necessarios\n",
        "import pandas as pd\n",
        "import numpy as np\n",
        "import matplotlib.pyplot as plt\n",
        "import seaborn as sns"
      ]
    },
    {
      "cell_type": "code",
      "execution_count": 2,
      "metadata": {
        "id": "LjgoCqzBcq7D"
      },
      "outputs": [],
      "source": [
        "sns.set_theme(style=\"whitegrid\", palette='rocket')\n",
        "#sns.color_palette(\"flare\", as_cmap=True)"
      ]
    },
    {
      "cell_type": "code",
      "execution_count": null,
      "metadata": {
        "colab": {
          "base_uri": "https://localhost:8080/"
        },
        "id": "FyiZZfw3GQs1",
        "outputId": "362131d5-f227-47d1-a6aa-20cb0d14e08e"
      },
      "outputs": [
        {
          "name": "stdout",
          "output_type": "stream",
          "text": [
            "Mounted at /content/drive\n"
          ]
        }
      ],
      "source": [
        "from google.colab import drive\n",
        "drive.mount('/content/drive')\n",
        "\n",
        "path = \"/content/drive/MyDrive/folder\""
      ]
    },
    {
      "cell_type": "markdown",
      "metadata": {
        "id": "qb5By2nIMS6m"
      },
      "source": [
        "## Análise dos Dados\n"
      ]
    },
    {
      "cell_type": "markdown",
      "metadata": {
        "id": "6-B_qtEaYEd-"
      },
      "source": [
        "### **Q1. Quantos atributos (variáveis) e quantas entradas o nosso conjunto de dados possui? Quais os tipos das variáveis?**"
      ]
    },
    {
      "cell_type": "markdown",
      "metadata": {
        "id": "yz1urSUGW9iE"
      },
      "source": [
        "### **Q2. Qual a porcentagem de valores ausentes no *dataset*?**"
      ]
    },
    {
      "cell_type": "markdown",
      "metadata": {
        "id": "iHXvvHIxaoNc"
      },
      "source": [
        "### **Q3. Qual o tipo de distribuição das variáveis?**"
      ]
    },
    {
      "cell_type": "markdown",
      "metadata": {
        "id": "7x4aw1j5wNmn"
      },
      "source": [
        "### **Q4. Qual a média dos preços de aluguel?**"
      ]
    },
    {
      "cell_type": "markdown",
      "metadata": {
        "id": "7b6RMWpuHKN-"
      },
      "source": [
        "### **Q5. Qual o tipo de imóvel mais disponível no Booking?**"
      ]
    },
    {
      "cell_type": "markdown",
      "metadata": {
        "id": "MFa5NbnLJMcd"
      },
      "source": [
        "### **Q6. Qual a localidade mais cara?**\n",
        "\n"
      ]
    },
    {
      "cell_type": "markdown",
      "metadata": {
        "id": "vTneAMRUYvr1"
      },
      "source": [
        "### **Q7. Qual é a média do mínimo de noites para aluguel (minimum_nights)?**"
      ]
    }
  ],
  "metadata": {
    "colab": {
      "provenance": []
    },
    "kernelspec": {
      "display_name": "Python 3 (ipykernel)",
      "language": "python",
      "name": "python3"
    },
    "language_info": {
      "codemirror_mode": {
        "name": "ipython",
        "version": 3
      },
      "file_extension": ".py",
      "mimetype": "text/x-python",
      "name": "python",
      "nbconvert_exporter": "python",
      "pygments_lexer": "ipython3",
      "version": "3.9.7"
    }
  },
  "nbformat": 4,
  "nbformat_minor": 0
}
