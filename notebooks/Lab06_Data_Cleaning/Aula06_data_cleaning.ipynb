{
  "cells": [
    {
      "cell_type": "markdown",
      "id": "jwmw0Y0r3oc-",
      "metadata": {
        "id": "jwmw0Y0r3oc-"
      },
      "source": [
        "# Análise de Dados: Data Cleaning com a base Pima Indians Diabetes\n",
        "\n",
        "Este notebook tem como objetivo ensinar as etapas de limpeza de dados (Data Cleaning) utilizando a base de dados `pima-indians-diabetes.data.csv`."
      ]
    },
    {
      "cell_type": "markdown",
      "id": "LVPLPCHgJaLA",
      "metadata": {
        "id": "LVPLPCHgJaLA"
      },
      "source": [
        "## Pima Indians Diabetes\n",
        "\n",
        "A base de dados **Pima Indians Diabetes** é um conjunto de dados clássico da área de saúde, frequentemente utilizado em estudos estatísticos e científicos para análise exploratória e aprendizado de máquina. Seu objetivo é estudar fatores associados ao diagnóstico de diabetes tipo 2 em mulheres de origem indígena Pima, que vivem no Arizona (EUA).\n",
        "\n",
        "---\n",
        "\n",
        "### Origem da Base\n",
        "\n",
        "A base foi disponibilizada pelo **National Institute of Diabetes and Digestive and Kidney Diseases (NIDDK)** e tornou-se amplamente conhecida por meio do repositório do **UCI Machine Learning Repository**:\n",
        "\n",
        "🔗 https://archive.ics.uci.edu/ml/datasets/pima+indians+diabetes\n",
        "\n",
        "---\n",
        "\n",
        "### Descrição das Variáveis\n",
        "\n",
        "A base contém **768 observações** com **8 variáveis preditoras** e **1 variável alvo**, todas relacionadas a exames médicos ou condições de saúde. Todas as pacientes são **mulheres com 21 anos ou mais**.\n",
        "\n",
        "| Variável                | Tradução                           | Descrição                                                                 |\n",
        "|------------------------|------------------------------------|---------------------------------------------------------------------------|\n",
        "| `Pregnancies`          | Gravidezes                         | Número de vezes que a paciente esteve grávida                            |\n",
        "| `Glucose`              | Glicose                            | Concentração de glicose no plasma em jejum                               |\n",
        "| `BloodPressure`        | Pressão Arterial                   | Pressão arterial diastólica (mm Hg)                                      |\n",
        "| `SkinThickness`        | Espessura da Pele                  | Espessura da dobra cutânea do tríceps (mm)                               |\n",
        "| `Insulin`              | Insulina                           | Nível de insulina sérica em 2h após refeição (mu U/ml)                   |\n",
        "| `BMI`                  | IMC                                | Índice de massa corporal (peso em kg / altura² em m²)                    |\n",
        "| `DiabetesPedigreeFunction` | Histórico Familiar             | Função que expressa a probabilidade de diabetes com base no histórico familiar |\n",
        "| `Age`                  | Idade                              | Idade da paciente (anos)                                                 |\n",
        "| `Outcome`              | Diagnóstico                        | 0 = Não diabética, 1 = Diabética                                         |\n",
        "\n",
        "---\n",
        "\n",
        "### Observações importantes\n",
        "\n",
        "- Alguns valores **zero** nas variáveis `Glucose`, `BloodPressure`, `SkinThickness`, `Insulin` e `BMI` são considerados **inconsistências ou dados ausentes**, pois clinicamente não fazem sentido.\n",
        "- A variável `Outcome` é binária e representa a **presença (1)** ou **ausência (0)** de diabetes tipo 2.\n",
        "\n",
        "---\n",
        "\n",
        "Esta base é amplamente usada para praticar **data cleaning**, análise descritiva e exploração de relações entre variáveis de saúde.\n"
      ]
    },
    {
      "cell_type": "code",
      "execution_count": 8,
      "id": "1vRTf-IV3odH",
      "metadata": {
        "id": "1vRTf-IV3odH"
      },
      "outputs": [],
      "source": [
        "import pandas as pd\n",
        "import numpy as np\n",
        "import matplotlib.pyplot as plt\n",
        "import seaborn as sns\n"
      ]
    },
    {
      "cell_type": "code",
      "execution_count": 9,
      "id": "edltgb9P3odL",
      "metadata": {
        "id": "edltgb9P3odL"
      },
      "outputs": [
        {
          "data": {
            "text/html": [
              "<div>\n",
              "<style scoped>\n",
              "    .dataframe tbody tr th:only-of-type {\n",
              "        vertical-align: middle;\n",
              "    }\n",
              "\n",
              "    .dataframe tbody tr th {\n",
              "        vertical-align: top;\n",
              "    }\n",
              "\n",
              "    .dataframe thead th {\n",
              "        text-align: right;\n",
              "    }\n",
              "</style>\n",
              "<table border=\"1\" class=\"dataframe\">\n",
              "  <thead>\n",
              "    <tr style=\"text-align: right;\">\n",
              "      <th></th>\n",
              "      <th>Pregnancies</th>\n",
              "      <th>Glucose</th>\n",
              "      <th>BloodPressure</th>\n",
              "      <th>SkinThickness</th>\n",
              "      <th>Insulin</th>\n",
              "      <th>BMI</th>\n",
              "      <th>DiabetesPedigreeFunction</th>\n",
              "      <th>Age</th>\n",
              "      <th>Outcome</th>\n",
              "    </tr>\n",
              "  </thead>\n",
              "  <tbody>\n",
              "    <tr>\n",
              "      <th>0</th>\n",
              "      <td>6</td>\n",
              "      <td>148</td>\n",
              "      <td>72</td>\n",
              "      <td>35</td>\n",
              "      <td>0</td>\n",
              "      <td>33.6</td>\n",
              "      <td>0.627</td>\n",
              "      <td>50</td>\n",
              "      <td>1</td>\n",
              "    </tr>\n",
              "    <tr>\n",
              "      <th>1</th>\n",
              "      <td>1</td>\n",
              "      <td>85</td>\n",
              "      <td>66</td>\n",
              "      <td>29</td>\n",
              "      <td>0</td>\n",
              "      <td>26.6</td>\n",
              "      <td>0.351</td>\n",
              "      <td>31</td>\n",
              "      <td>0</td>\n",
              "    </tr>\n",
              "    <tr>\n",
              "      <th>2</th>\n",
              "      <td>8</td>\n",
              "      <td>183</td>\n",
              "      <td>64</td>\n",
              "      <td>0</td>\n",
              "      <td>0</td>\n",
              "      <td>23.3</td>\n",
              "      <td>0.672</td>\n",
              "      <td>32</td>\n",
              "      <td>1</td>\n",
              "    </tr>\n",
              "    <tr>\n",
              "      <th>3</th>\n",
              "      <td>1</td>\n",
              "      <td>89</td>\n",
              "      <td>66</td>\n",
              "      <td>23</td>\n",
              "      <td>94</td>\n",
              "      <td>28.1</td>\n",
              "      <td>0.167</td>\n",
              "      <td>21</td>\n",
              "      <td>0</td>\n",
              "    </tr>\n",
              "    <tr>\n",
              "      <th>4</th>\n",
              "      <td>0</td>\n",
              "      <td>137</td>\n",
              "      <td>40</td>\n",
              "      <td>35</td>\n",
              "      <td>168</td>\n",
              "      <td>43.1</td>\n",
              "      <td>2.288</td>\n",
              "      <td>33</td>\n",
              "      <td>1</td>\n",
              "    </tr>\n",
              "  </tbody>\n",
              "</table>\n",
              "</div>"
            ],
            "text/plain": [
              "   Pregnancies  Glucose  BloodPressure  SkinThickness  Insulin   BMI  \\\n",
              "0            6      148             72             35        0  33.6   \n",
              "1            1       85             66             29        0  26.6   \n",
              "2            8      183             64              0        0  23.3   \n",
              "3            1       89             66             23       94  28.1   \n",
              "4            0      137             40             35      168  43.1   \n",
              "\n",
              "   DiabetesPedigreeFunction  Age  Outcome  \n",
              "0                     0.627   50        1  \n",
              "1                     0.351   31        0  \n",
              "2                     0.672   32        1  \n",
              "3                     0.167   21        0  \n",
              "4                     2.288   33        1  "
            ]
          },
          "execution_count": 9,
          "metadata": {},
          "output_type": "execute_result"
        }
      ],
      "source": [
        "# Carregamento dos dados\n",
        "column_names = [\n",
        "    'Pregnancies', 'Glucose', 'BloodPressure', 'SkinThickness',\n",
        "    'Insulin', 'BMI', 'DiabetesPedigreeFunction', 'Age', 'Outcome'\n",
        "]\n",
        "df = pd.read_csv('diabetes.csv', names=column_names, header=0)\n",
        "df.head()"
      ]
    },
    {
      "cell_type": "markdown",
      "id": "jcBb1ccO3odN",
      "metadata": {
        "id": "jcBb1ccO3odN"
      },
      "source": [
        "## 1. Verificando a estrutura dos dados"
      ]
    },
    {
      "cell_type": "code",
      "execution_count": 10,
      "id": "LF2M12m93odO",
      "metadata": {
        "id": "LF2M12m93odO"
      },
      "outputs": [
        {
          "name": "stdout",
          "output_type": "stream",
          "text": [
            "<class 'pandas.core.frame.DataFrame'>\n",
            "RangeIndex: 768 entries, 0 to 767\n",
            "Data columns (total 9 columns):\n",
            " #   Column                    Non-Null Count  Dtype  \n",
            "---  ------                    --------------  -----  \n",
            " 0   Pregnancies               768 non-null    int64  \n",
            " 1   Glucose                   768 non-null    int64  \n",
            " 2   BloodPressure             768 non-null    int64  \n",
            " 3   SkinThickness             768 non-null    int64  \n",
            " 4   Insulin                   768 non-null    int64  \n",
            " 5   BMI                       768 non-null    float64\n",
            " 6   DiabetesPedigreeFunction  768 non-null    float64\n",
            " 7   Age                       768 non-null    int64  \n",
            " 8   Outcome                   768 non-null    int64  \n",
            "dtypes: float64(2), int64(7)\n",
            "memory usage: 54.1 KB\n"
          ]
        }
      ],
      "source": [
        "df.info()"
      ]
    },
    {
      "cell_type": "markdown",
      "id": "oe-p2yM-76Sf",
      "metadata": {
        "id": "oe-p2yM-76Sf"
      },
      "source": [
        "### **Quantos atributos (variáveis) e quantas entradas o nosso conjunto de dados possui? Quais os tipos das variáveis?**"
      ]
    },
    {
      "cell_type": "code",
      "execution_count": 11,
      "id": "v9C3vUGx75GW",
      "metadata": {
        "id": "v9C3vUGx75GW"
      },
      "outputs": [
        {
          "name": "stdout",
          "output_type": "stream",
          "text": [
            "O dataset possui 768 entradas (registros) e 9 atributos (variáveis).\n",
            "\n",
            "Os tipos dos atributos são do tipo:\n",
            "Pregnancies                   int64\n",
            "Glucose                       int64\n",
            "BloodPressure                 int64\n",
            "SkinThickness                 int64\n",
            "Insulin                       int64\n",
            "BMI                         float64\n",
            "DiabetesPedigreeFunction    float64\n",
            "Age                           int64\n",
            "Outcome                       int64\n",
            "dtype: object\n"
          ]
        }
      ],
      "source": [
        "print(f'O dataset possui {df.shape[0]} entradas (registros) e {df.shape[1]} atributos (variáveis).')\n",
        "\n",
        "# Tipos de dados dos atributos\n",
        "print(f'\\nOs tipos dos atributos são do tipo:\\n{df.dtypes}')"
      ]
    },
    {
      "cell_type": "markdown",
      "id": "hKNTXJpD8Mi9",
      "metadata": {
        "id": "hKNTXJpD8Mi9"
      },
      "source": [
        "### **Qual a porcentagem de valores ausentes no *dataset*?**"
      ]
    },
    {
      "cell_type": "code",
      "execution_count": 12,
      "id": "AxxrlWbT8MvR",
      "metadata": {
        "id": "AxxrlWbT8MvR"
      },
      "outputs": [
        {
          "name": "stdout",
          "output_type": "stream",
          "text": [
            "As variáveis com mais dados faltantes, em porcentagem (%), são:\n",
            "\n"
          ]
        },
        {
          "data": {
            "text/plain": [
              "Pregnancies                 0.0\n",
              "Glucose                     0.0\n",
              "BloodPressure               0.0\n",
              "SkinThickness               0.0\n",
              "Insulin                     0.0\n",
              "BMI                         0.0\n",
              "DiabetesPedigreeFunction    0.0\n",
              "Age                         0.0\n",
              "Outcome                     0.0\n",
              "dtype: float64"
            ]
          },
          "execution_count": 12,
          "metadata": {},
          "output_type": "execute_result"
        }
      ],
      "source": [
        "print(f'As variáveis com mais dados faltantes, em porcentagem (%), são:\\n')\n",
        "((df.isnull().sum() / df.shape[0])*100).sort_values(ascending=False)"
      ]
    },
    {
      "cell_type": "markdown",
      "id": "1O9jw5oe8nWB",
      "metadata": {
        "id": "1O9jw5oe8nWB"
      },
      "source": [
        "### **Qual o tipo de distribuição das variáveis?**"
      ]
    },
    {
      "cell_type": "code",
      "execution_count": 13,
      "id": "nN8nNMsW8qc4",
      "metadata": {
        "id": "nN8nNMsW8qc4"
      },
      "outputs": [
        {
          "data": {
            "image/png": "[encoded data removed]",
            "text/plain": [
              "<Figure size 2000x1600 with 9 Axes>"
            ]
          },
          "metadata": {},
          "output_type": "display_data"
        }
      ],
      "source": [
        "df.hist(bins=15, figsize=(20,16));"
      ]
    },
    {
      "cell_type": "markdown",
      "id": "OWA4BBIt3odP",
      "metadata": {
        "id": "OWA4BBIt3odP"
      },
      "source": [
        "## 2. Estatísticas descritivas iniciais"
      ]
    },
    {
      "cell_type": "code",
      "execution_count": 14,
      "id": "q68-ZqDp3odQ",
      "metadata": {
        "id": "q68-ZqDp3odQ"
      },
      "outputs": [
        {
          "data": {
            "text/html": [
              "<div>\n",
              "<style scoped>\n",
              "    .dataframe tbody tr th:only-of-type {\n",
              "        vertical-align: middle;\n",
              "    }\n",
              "\n",
              "    .dataframe tbody tr th {\n",
              "        vertical-align: top;\n",
              "    }\n",
              "\n",
              "    .dataframe thead th {\n",
              "        text-align: right;\n",
              "    }\n",
              "</style>\n",
              "<table border=\"1\" class=\"dataframe\">\n",
              "  <thead>\n",
              "    <tr style=\"text-align: right;\">\n",
              "      <th></th>\n",
              "      <th>Pregnancies</th>\n",
              "      <th>Glucose</th>\n",
              "      <th>BloodPressure</th>\n",
              "      <th>SkinThickness</th>\n",
              "      <th>Insulin</th>\n",
              "      <th>BMI</th>\n",
              "      <th>DiabetesPedigreeFunction</th>\n",
              "      <th>Age</th>\n",
              "      <th>Outcome</th>\n",
              "    </tr>\n",
              "  </thead>\n",
              "  <tbody>\n",
              "    <tr>\n",
              "      <th>count</th>\n",
              "      <td>768.000000</td>\n",
              "      <td>768.000000</td>\n",
              "      <td>768.000000</td>\n",
              "      <td>768.000000</td>\n",
              "      <td>768.000000</td>\n",
              "      <td>768.000000</td>\n",
              "      <td>768.000000</td>\n",
              "      <td>768.000000</td>\n",
              "      <td>768.000000</td>\n",
              "    </tr>\n",
              "    <tr>\n",
              "      <th>mean</th>\n",
              "      <td>3.845052</td>\n",
              "      <td>120.894531</td>\n",
              "      <td>69.105469</td>\n",
              "      <td>20.536458</td>\n",
              "      <td>79.799479</td>\n",
              "      <td>31.992578</td>\n",
              "      <td>0.471876</td>\n",
              "      <td>33.240885</td>\n",
              "      <td>0.348958</td>\n",
              "    </tr>\n",
              "    <tr>\n",
              "      <th>std</th>\n",
              "      <td>3.369578</td>\n",
              "      <td>31.972618</td>\n",
              "      <td>19.355807</td>\n",
              "      <td>15.952218</td>\n",
              "      <td>115.244002</td>\n",
              "      <td>7.884160</td>\n",
              "      <td>0.331329</td>\n",
              "      <td>11.760232</td>\n",
              "      <td>0.476951</td>\n",
              "    </tr>\n",
              "    <tr>\n",
              "      <th>min</th>\n",
              "      <td>0.000000</td>\n",
              "      <td>0.000000</td>\n",
              "      <td>0.000000</td>\n",
              "      <td>0.000000</td>\n",
              "      <td>0.000000</td>\n",
              "      <td>0.000000</td>\n",
              "      <td>0.078000</td>\n",
              "      <td>21.000000</td>\n",
              "      <td>0.000000</td>\n",
              "    </tr>\n",
              "    <tr>\n",
              "      <th>25%</th>\n",
              "      <td>1.000000</td>\n",
              "      <td>99.000000</td>\n",
              "      <td>62.000000</td>\n",
              "      <td>0.000000</td>\n",
              "      <td>0.000000</td>\n",
              "      <td>27.300000</td>\n",
              "      <td>0.243750</td>\n",
              "      <td>24.000000</td>\n",
              "      <td>0.000000</td>\n",
              "    </tr>\n",
              "    <tr>\n",
              "      <th>50%</th>\n",
              "      <td>3.000000</td>\n",
              "      <td>117.000000</td>\n",
              "      <td>72.000000</td>\n",
              "      <td>23.000000</td>\n",
              "      <td>30.500000</td>\n",
              "      <td>32.000000</td>\n",
              "      <td>0.372500</td>\n",
              "      <td>29.000000</td>\n",
              "      <td>0.000000</td>\n",
              "    </tr>\n",
              "    <tr>\n",
              "      <th>75%</th>\n",
              "      <td>6.000000</td>\n",
              "      <td>140.250000</td>\n",
              "      <td>80.000000</td>\n",
              "      <td>32.000000</td>\n",
              "      <td>127.250000</td>\n",
              "      <td>36.600000</td>\n",
              "      <td>0.626250</td>\n",
              "      <td>41.000000</td>\n",
              "      <td>1.000000</td>\n",
              "    </tr>\n",
              "    <tr>\n",
              "      <th>max</th>\n",
              "      <td>17.000000</td>\n",
              "      <td>199.000000</td>\n",
              "      <td>122.000000</td>\n",
              "      <td>99.000000</td>\n",
              "      <td>846.000000</td>\n",
              "      <td>67.100000</td>\n",
              "      <td>2.420000</td>\n",
              "      <td>81.000000</td>\n",
              "      <td>1.000000</td>\n",
              "    </tr>\n",
              "  </tbody>\n",
              "</table>\n",
              "</div>"
            ],
            "text/plain": [
              "       Pregnancies     Glucose  BloodPressure  SkinThickness     Insulin  \\\n",
              "count   768.000000  768.000000     768.000000     768.000000  768.000000   \n",
              "mean      3.845052  120.894531      69.105469      20.536458   79.799479   \n",
              "std       3.369578   31.972618      19.355807      15.952218  115.244002   \n",
              "min       0.000000    0.000000       0.000000       0.000000    0.000000   \n",
              "25%       1.000000   99.000000      62.000000       0.000000    0.000000   \n",
              "50%       3.000000  117.000000      72.000000      23.000000   30.500000   \n",
              "75%       6.000000  140.250000      80.000000      32.000000  127.250000   \n",
              "max      17.000000  199.000000     122.000000      99.000000  846.000000   \n",
              "\n",
              "              BMI  DiabetesPedigreeFunction         Age     Outcome  \n",
              "count  768.000000                768.000000  768.000000  768.000000  \n",
              "mean    31.992578                  0.471876   33.240885    0.348958  \n",
              "std      7.884160                  0.331329   11.760232    0.476951  \n",
              "min      0.000000                  0.078000   21.000000    0.000000  \n",
              "25%     27.300000                  0.243750   24.000000    0.000000  \n",
              "50%     32.000000                  0.372500   29.000000    0.000000  \n",
              "75%     36.600000                  0.626250   41.000000    1.000000  \n",
              "max     67.100000                  2.420000   81.000000    1.000000  "
            ]
          },
          "execution_count": 14,
          "metadata": {},
          "output_type": "execute_result"
        }
      ],
      "source": [
        "df.describe()"
      ]
    },
    {
      "cell_type": "markdown",
      "id": "N02QYYTs3odR",
      "metadata": {
        "id": "N02QYYTs3odR"
      },
      "source": [
        "## 3. Verificando valores ausentes ou inválidos\n",
        "Na base, alguns campos têm o valor **0** que pode indicar ausência de medição (por exemplo, pressão arterial = 0). Vamos verificar esses casos."
      ]
    },
    {
      "cell_type": "code",
      "execution_count": null,
      "id": "TTFUXmzPQueb",
      "metadata": {
        "id": "TTFUXmzPQueb"
      },
      "outputs": [
        {
          "name": "stdout",
          "output_type": "stream",
          "text": [
            "Glucose - Total de zeros: 5\n",
            "BloodPressure - Total de zeros: 35\n",
            "SkinThickness - Total de zeros: 227\n",
            "Insulin - Total de zeros: 374\n",
            "BMI - Total de zeros: 11\n"
          ]
        }
      ],
      "source": [
        "cols_with_zeros = ['Glucose', 'BloodPressure', 'SkinThickness', 'Insulin', 'BMI']\n",
        "for col in cols_with_zeros:\n",
        "    print(f\"{col} - Total de zeros: { (df[col] == 0).sum() }\")"
      ]
    },
    {
      "cell_type": "code",
      "execution_count": 16,
      "id": "Ww6GXxoc3odS",
      "metadata": {
        "id": "Ww6GXxoc3odS"
      },
      "outputs": [
        {
          "data": {
            "text/plain": [
              "Pregnancies                   0\n",
              "Glucose                       5\n",
              "BloodPressure                35\n",
              "SkinThickness               227\n",
              "Insulin                     374\n",
              "BMI                          11\n",
              "DiabetesPedigreeFunction      0\n",
              "Age                           0\n",
              "Outcome                       0\n",
              "dtype: int64"
            ]
          },
          "execution_count": 16,
          "metadata": {},
          "output_type": "execute_result"
        }
      ],
      "source": [
        "# Substituindo zeros por NaN e contando os valores ausentes\n",
        "df[cols_with_zeros] = df[cols_with_zeros].replace(0, np.nan)\n",
        "df.isnull().sum()"
      ]
    },
    {
      "cell_type": "markdown",
      "id": "bTL-CHoV3odU",
      "metadata": {
        "id": "bTL-CHoV3odU"
      },
      "source": [
        "## 4. Imputação de valores ausentes com a mediana (Usar com atenção)"
      ]
    },
    {
      "cell_type": "code",
      "execution_count": 17,
      "id": "gkmUOews3odU",
      "metadata": {
        "id": "gkmUOews3odU"
      },
      "outputs": [
        {
          "data": {
            "text/plain": [
              "Pregnancies                 0\n",
              "Glucose                     0\n",
              "BloodPressure               0\n",
              "SkinThickness               0\n",
              "Insulin                     0\n",
              "BMI                         0\n",
              "DiabetesPedigreeFunction    0\n",
              "Age                         0\n",
              "Outcome                     0\n",
              "dtype: int64"
            ]
          },
          "execution_count": 17,
          "metadata": {},
          "output_type": "execute_result"
        }
      ],
      "source": [
        "df.fillna(df.median(), inplace=True)\n",
        "df.isnull().sum()\n",
        "\n",
        "#Remover dados nulos\n",
        "#df.dropna(inplace=True)"
      ]
    },
    {
      "cell_type": "markdown",
      "id": "sDcowbkc3odV",
      "metadata": {
        "id": "sDcowbkc3odV"
      },
      "source": [
        "## 6. Visualizando distribuições e outliers"
      ]
    },
    {
      "cell_type": "code",
      "execution_count": 18,
      "id": "SryHsSbN3odV",
      "metadata": {
        "id": "SryHsSbN3odV"
      },
      "outputs": [
        {
          "data": {
            "image/png": "[encoded data removed]",
            "text/plain": [
              "<Figure size 1200x800 with 1 Axes>"
            ]
          },
          "metadata": {},
          "output_type": "display_data"
        }
      ],
      "source": [
        "plt.figure(figsize=(12, 8))\n",
        "df.boxplot()\n",
        "plt.title(\"Boxplots das variáveis com valores ausentes tratados\")\n",
        "plt.show()"
      ]
    },
    {
      "cell_type": "code",
      "execution_count": 20,
      "id": "0c143cb6",
      "metadata": {},
      "outputs": [
        {
          "data": {
            "text/html": [
              "<div>\n",
              "<style scoped>\n",
              "    .dataframe tbody tr th:only-of-type {\n",
              "        vertical-align: middle;\n",
              "    }\n",
              "\n",
              "    .dataframe tbody tr th {\n",
              "        vertical-align: top;\n",
              "    }\n",
              "\n",
              "    .dataframe thead th {\n",
              "        text-align: right;\n",
              "    }\n",
              "</style>\n",
              "<table border=\"1\" class=\"dataframe\">\n",
              "  <thead>\n",
              "    <tr style=\"text-align: right;\">\n",
              "      <th></th>\n",
              "      <th>Pregnancies</th>\n",
              "      <th>Glucose</th>\n",
              "      <th>BloodPressure</th>\n",
              "      <th>SkinThickness</th>\n",
              "      <th>Insulin</th>\n",
              "      <th>BMI</th>\n",
              "      <th>DiabetesPedigreeFunction</th>\n",
              "      <th>Age</th>\n",
              "      <th>Outcome</th>\n",
              "    </tr>\n",
              "  </thead>\n",
              "  <tbody>\n",
              "    <tr>\n",
              "      <th>count</th>\n",
              "      <td>768.000000</td>\n",
              "      <td>768.000000</td>\n",
              "      <td>768.000000</td>\n",
              "      <td>768.000000</td>\n",
              "      <td>768.000000</td>\n",
              "      <td>768.000000</td>\n",
              "      <td>768.000000</td>\n",
              "      <td>768.000000</td>\n",
              "      <td>768.000000</td>\n",
              "    </tr>\n",
              "    <tr>\n",
              "      <th>mean</th>\n",
              "      <td>3.845052</td>\n",
              "      <td>121.656250</td>\n",
              "      <td>72.386719</td>\n",
              "      <td>29.108073</td>\n",
              "      <td>140.671875</td>\n",
              "      <td>32.455208</td>\n",
              "      <td>0.471876</td>\n",
              "      <td>33.240885</td>\n",
              "      <td>0.348958</td>\n",
              "    </tr>\n",
              "    <tr>\n",
              "      <th>std</th>\n",
              "      <td>3.369578</td>\n",
              "      <td>30.438286</td>\n",
              "      <td>12.096642</td>\n",
              "      <td>8.791221</td>\n",
              "      <td>86.383060</td>\n",
              "      <td>6.875177</td>\n",
              "      <td>0.331329</td>\n",
              "      <td>11.760232</td>\n",
              "      <td>0.476951</td>\n",
              "    </tr>\n",
              "    <tr>\n",
              "      <th>min</th>\n",
              "      <td>0.000000</td>\n",
              "      <td>44.000000</td>\n",
              "      <td>24.000000</td>\n",
              "      <td>7.000000</td>\n",
              "      <td>14.000000</td>\n",
              "      <td>18.200000</td>\n",
              "      <td>0.078000</td>\n",
              "      <td>21.000000</td>\n",
              "      <td>0.000000</td>\n",
              "    </tr>\n",
              "    <tr>\n",
              "      <th>25%</th>\n",
              "      <td>1.000000</td>\n",
              "      <td>99.750000</td>\n",
              "      <td>64.000000</td>\n",
              "      <td>25.000000</td>\n",
              "      <td>121.500000</td>\n",
              "      <td>27.500000</td>\n",
              "      <td>0.243750</td>\n",
              "      <td>24.000000</td>\n",
              "      <td>0.000000</td>\n",
              "    </tr>\n",
              "    <tr>\n",
              "      <th>50%</th>\n",
              "      <td>3.000000</td>\n",
              "      <td>117.000000</td>\n",
              "      <td>72.000000</td>\n",
              "      <td>29.000000</td>\n",
              "      <td>125.000000</td>\n",
              "      <td>32.300000</td>\n",
              "      <td>0.372500</td>\n",
              "      <td>29.000000</td>\n",
              "      <td>0.000000</td>\n",
              "    </tr>\n",
              "    <tr>\n",
              "      <th>75%</th>\n",
              "      <td>6.000000</td>\n",
              "      <td>140.250000</td>\n",
              "      <td>80.000000</td>\n",
              "      <td>32.000000</td>\n",
              "      <td>127.250000</td>\n",
              "      <td>36.600000</td>\n",
              "      <td>0.626250</td>\n",
              "      <td>41.000000</td>\n",
              "      <td>1.000000</td>\n",
              "    </tr>\n",
              "    <tr>\n",
              "      <th>max</th>\n",
              "      <td>17.000000</td>\n",
              "      <td>199.000000</td>\n",
              "      <td>122.000000</td>\n",
              "      <td>99.000000</td>\n",
              "      <td>846.000000</td>\n",
              "      <td>67.100000</td>\n",
              "      <td>2.420000</td>\n",
              "      <td>81.000000</td>\n",
              "      <td>1.000000</td>\n",
              "    </tr>\n",
              "  </tbody>\n",
              "</table>\n",
              "</div>"
            ],
            "text/plain": [
              "       Pregnancies     Glucose  BloodPressure  SkinThickness     Insulin  \\\n",
              "count   768.000000  768.000000     768.000000     768.000000  768.000000   \n",
              "mean      3.845052  121.656250      72.386719      29.108073  140.671875   \n",
              "std       3.369578   30.438286      12.096642       8.791221   86.383060   \n",
              "min       0.000000   44.000000      24.000000       7.000000   14.000000   \n",
              "25%       1.000000   99.750000      64.000000      25.000000  121.500000   \n",
              "50%       3.000000  117.000000      72.000000      29.000000  125.000000   \n",
              "75%       6.000000  140.250000      80.000000      32.000000  127.250000   \n",
              "max      17.000000  199.000000     122.000000      99.000000  846.000000   \n",
              "\n",
              "              BMI  DiabetesPedigreeFunction         Age     Outcome  \n",
              "count  768.000000                768.000000  768.000000  768.000000  \n",
              "mean    32.455208                  0.471876   33.240885    0.348958  \n",
              "std      6.875177                  0.331329   11.760232    0.476951  \n",
              "min     18.200000                  0.078000   21.000000    0.000000  \n",
              "25%     27.500000                  0.243750   24.000000    0.000000  \n",
              "50%     32.300000                  0.372500   29.000000    0.000000  \n",
              "75%     36.600000                  0.626250   41.000000    1.000000  \n",
              "max     67.100000                  2.420000   81.000000    1.000000  "
            ]
          },
          "execution_count": 20,
          "metadata": {},
          "output_type": "execute_result"
        }
      ],
      "source": [
        "df.describe()"
      ]
    },
    {
      "cell_type": "markdown",
      "id": "dAM5NiGO9KMS",
      "metadata": {
        "id": "dAM5NiGO9KMS"
      },
      "source": [
        "## O que é IQR (Interquartile Range)?\n",
        "\n",
        "O **IQR**, ou **Intervalo Interquartil**, é uma medida estatística de dispersão que descreve a faixa central de um conjunto de dados. Ele é útil especialmente para detectar **valores discrepantes (outliers)**, pois é **resistente a valores extremos**.\n",
        "\n",
        "O IQR é calculado como a diferença entre o terceiro quartil (Q3) e o primeiro quartil (Q1):\n",
        "\n",
        "\\[\n",
        "**IQR** = Q3 - Q1\n",
        "\\]\n",
        "\n",
        "- **Q1 (1º Quartil)**: 25% dos dados estão abaixo desse valor.\n",
        "- **Q3 (3º Quartil)**: 75% dos dados estão abaixo desse valor.\n",
        "- **IQR** representa os 50% centrais dos dados.\n",
        "\n",
        "---\n",
        "\n",
        "## Como interpretar o IQR?\n",
        "\n",
        "O IQR serve como base para identificar possíveis **outliers**. Valores são considerados outliers se estiverem **muito abaixo de Q1 ou muito acima de Q3**, fora do intervalo definido por:\n",
        "\n",
        "- **Limite Inferior**:  \n",
        "  \\[\n",
        "  Q1 - 1.5 * IQR\n",
        "  \\]\n",
        "- **Limite Superior**:  \n",
        "  \\[\n",
        "  Q3 + 1.5 * IQR\n",
        "  \\]\n",
        "\n",
        "Qualquer dado que esteja **fora desses limites** é considerado um possível outlier.\n",
        "\n",
        "---\n",
        "\n",
        "## Vantagens do uso do IQR\n",
        "\n",
        "- **Não depende da distribuição dos dados** (diferente do uso de média e desvio padrão).\n",
        "- **Menos sensível a valores extremos**, tornando-o mais robusto.\n"
      ]
    },
    {
      "cell_type": "code",
      "execution_count": 19,
      "id": "so4fN02R-DB8",
      "metadata": {
        "id": "so4fN02R-DB8"
      },
      "outputs": [
        {
          "name": "stdout",
          "output_type": "stream",
          "text": [
            "     Pregnancies  Glucose  BloodPressure  SkinThickness  Insulin   BMI  \\\n",
            "3              1     89.0           66.0           23.0     94.0  28.1   \n",
            "4              0    137.0           40.0           35.0    168.0  43.1   \n",
            "6              3     78.0           50.0           32.0     88.0  31.0   \n",
            "8              2    197.0           70.0           45.0    543.0  30.5   \n",
            "13             1    189.0           60.0           23.0    846.0  30.1   \n",
            "..           ...      ...            ...            ...      ...   ...   \n",
            "753            0    181.0           88.0           44.0    510.0  43.3   \n",
            "755            1    128.0           88.0           39.0    110.0  36.5   \n",
            "760            2     88.0           58.0           26.0     16.0  28.4   \n",
            "763           10    101.0           76.0           48.0    180.0  32.9   \n",
            "765            5    121.0           72.0           23.0    112.0  26.2   \n",
            "\n",
            "     DiabetesPedigreeFunction  Age  Outcome  \n",
            "3                       0.167   21        0  \n",
            "4                       2.288   33        1  \n",
            "6                       0.248   26        1  \n",
            "8                       0.158   53        1  \n",
            "13                      0.398   59        1  \n",
            "..                        ...  ...      ...  \n",
            "753                     0.222   26        1  \n",
            "755                     1.057   37        1  \n",
            "760                     0.766   22        0  \n",
            "763                     0.171   63        0  \n",
            "765                     0.245   30        0  \n",
            "\n",
            "[346 rows x 9 columns]\n"
          ]
        }
      ],
      "source": [
        "def detectar_outliers_iqr(coluna):\n",
        "    Q1 = df[coluna].quantile(0.25)\n",
        "    Q3 = df[coluna].quantile(0.75)\n",
        "    IQR = Q3 - Q1\n",
        "    limite_inferior = Q1 - 1.5 * IQR\n",
        "    limite_superior = Q3 + 1.5 * IQR\n",
        "    outliers = df[(df[coluna] < limite_inferior) | (df[coluna] > limite_superior)]\n",
        "    return outliers\n",
        "\n",
        "outliers_insulin = detectar_outliers_iqr('Insulin')\n",
        "\n",
        "print(outliers_insulin)\n",
        "\n",
        "#remover outliers\n",
        "#df = df.drop(outliers_insulin.index)"
      ]
    },
    {
      "cell_type": "markdown",
      "id": "mX7wPY8BDYDb",
      "metadata": {
        "id": "mX7wPY8BDYDb"
      },
      "source": [
        "# Questão\n",
        "\n",
        "- Devo remover os outliers?"
      ]
    }
  ],
  "metadata": {
    "colab": {
      "provenance": []
    },
    "kernelspec": {
      "display_name": "aulas_pos",
      "language": "python",
      "name": "python3"
    },
    "language_info": {
      "codemirror_mode": {
        "name": "ipython",
        "version": 3
      },
      "file_extension": ".py",
      "mimetype": "text/x-python",
      "name": "python",
      "nbconvert_exporter": "python",
      "pygments_lexer": "ipython3",
      "version": "3.11.8"
    }
  },
  "nbformat": 4,
  "nbformat_minor": 5
}
